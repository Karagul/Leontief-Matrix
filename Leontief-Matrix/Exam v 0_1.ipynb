{
 "metadata": {
  "name": ""
 },
 "nbformat": 3,
 "nbformat_minor": 0,
 "worksheets": [
  {
   "cells": [
    {
     "cell_type": "markdown",
     "metadata": {},
     "source": [
      "##Examen\n",
      "### Geografia Turismului\n",
      "#### V1"
     ]
    },
    {
     "cell_type": "markdown",
     "metadata": {},
     "source": [
      "Exchange of Goods and Services in the U.S. for 1947 (in billions of 1947 dollars)\n"
     ]
    },
    {
     "cell_type": "code",
     "collapsed": false,
     "input": [
      "import numpy as np\n",
      "import pandas as pd"
     ],
     "language": "python",
     "metadata": {},
     "outputs": [],
     "prompt_number": 58
    },
    {
     "cell_type": "code",
     "collapsed": false,
     "input": [
      "ls"
     ],
     "language": "python",
     "metadata": {},
     "outputs": [
      {
       "output_type": "stream",
       "stream": "stdout",
       "text": [
        "Exam v 0_1.ipynb  leontief.csv  QE_P2L01.ipynb  Untitled0.ipynb\r\n"
       ]
      }
     ],
     "prompt_number": 2
    },
    {
     "cell_type": "code",
     "collapsed": false,
     "input": [
      "f = open('leontief.csv')"
     ],
     "language": "python",
     "metadata": {},
     "outputs": [],
     "prompt_number": 16
    },
    {
     "cell_type": "code",
     "collapsed": false,
     "input": [
      "Names = (f.next().strip()).split(',')\n",
      "data =[]"
     ],
     "language": "python",
     "metadata": {},
     "outputs": [],
     "prompt_number": 17
    },
    {
     "cell_type": "code",
     "collapsed": false,
     "input": [
      "for row in f:\n",
      "    #np.vstack(data,(row.strip().split(',')))\n",
      "    data.append(row.strip().split(','))"
     ],
     "language": "python",
     "metadata": {},
     "outputs": [],
     "prompt_number": 18
    },
    {
     "cell_type": "code",
     "collapsed": false,
     "input": [
      "data = np.array(data)\n",
      "\n",
      "# Extracting External Demand\n",
      "Ex_Demand= data[:-1][:,-1]\n",
      "Ex_Demand=Ex_Demand.astype(float)\n",
      "# Extracting Gross Product\n",
      "Gross_Product = data[-1][:-1]\n",
      "Gross_Product=Gross_Product.astype(float)\n",
      "# Extracting Expenditures Matrix\n",
      "A = data[:-1][:,:-1]\n",
      "A=A.astype(float)\n",
      "\n",
      "print Ex_Demand\n",
      "print Gross_Product\n",
      "print A"
     ],
     "language": "python",
     "metadata": {},
     "outputs": [
      {
       "output_type": "stream",
       "stream": "stdout",
       "text": [
        "[  39.24   60.02  130.65]\n",
        "[  84.56  163.43  219.03]\n",
        "[[ 34.69   4.92   5.62]\n",
        " [  5.28  61.28  22.99]\n",
        " [ 10.45  25.95  42.03]]\n"
       ]
      }
     ],
     "prompt_number": 35
    },
    {
     "cell_type": "code",
     "collapsed": false,
     "input": [
      "Demand = []\n",
      "for i in xrange(len(A[0])):\n",
      "    Demand.append (sum(A[i])+Ex_Demand[i])\n",
      "Demand= np.array(Demand)\n",
      "Income = Gross_Product - Demand\n",
      "Income\n"
     ],
     "language": "python",
     "metadata": {},
     "outputs": [
      {
       "metadata": {},
       "output_type": "pyout",
       "prompt_number": 43,
       "text": [
        "array([  0.09,  13.86,   9.95])"
       ]
      }
     ],
     "prompt_number": 43
    },
    {
     "cell_type": "code",
     "collapsed": false,
     "input": [
      "A_tc = A / Gross_Product\n",
      "print A_tc"
     ],
     "language": "python",
     "metadata": {},
     "outputs": [
      {
       "output_type": "stream",
       "stream": "stdout",
       "text": [
        "[[ 0.41024125  0.03010463  0.02565859]\n",
        " [ 0.06244087  0.37496176  0.10496279]\n",
        " [ 0.12358089  0.15878358  0.19189152]]\n"
       ]
      }
     ],
     "prompt_number": 68
    },
    {
     "cell_type": "code",
     "collapsed": false,
     "input": [
      "L = (np.identity(len(A[0])) - A_tc)\n",
      "L"
     ],
     "language": "python",
     "metadata": {},
     "outputs": [
      {
       "metadata": {},
       "output_type": "pyout",
       "prompt_number": 74,
       "text": [
        "array([[ 0.58975875, -0.03010463, -0.02565859],\n",
        "       [-0.06244087,  0.62503824, -0.10496279],\n",
        "       [-0.12358089, -0.15878358,  0.80810848]])"
       ]
      }
     ],
     "prompt_number": 74
    },
    {
     "cell_type": "code",
     "collapsed": false,
     "input": [
      "linalg.inv(L)"
     ],
     "language": "python",
     "metadata": {},
     "outputs": [
      {
       "metadata": {},
       "output_type": "pyout",
       "prompt_number": 73,
       "text": [
        "array([[ 1.72036911,  0.10003816,  0.06761781],\n",
        "       [ 0.22341618,  1.66748571,  0.2236785 ],\n",
        "       [ 0.30698795,  0.34293929,  1.29174829]])"
       ]
      }
     ],
     "prompt_number": 73
    },
    {
     "cell_type": "code",
     "collapsed": false,
     "input": [
      "P = np.dot(linalg.inv(L), Ex_Demand)"
     ],
     "language": "python",
     "metadata": {},
     "outputs": [],
     "prompt_number": 77
    },
    {
     "cell_type": "code",
     "collapsed": false,
     "input": [
      "P"
     ],
     "language": "python",
     "metadata": {},
     "outputs": [
      {
       "metadata": {},
       "output_type": "pyout",
       "prompt_number": 78,
       "text": [
        "array([  82.3458407 ,  138.07293955,  201.39633704])"
       ]
      }
     ],
     "prompt_number": 78
    },
    {
     "cell_type": "markdown",
     "metadata": {},
     "source": [
      "$ Turisti_{t} = \\alpha * Turisti_{t-1} + \\beta_{0} +\\beta_{1}GDP_{cap} + \\beta_{2}\\frac{Prices_{foreign}}{Prices_{home}} + \\beta_{3}*ExRate_{\\frac{Foreign}{MDL}}+\\beta_{4}CO_{2}$"
     ]
    },
    {
     "cell_type": "code",
     "collapsed": false,
     "input": [],
     "language": "python",
     "metadata": {},
     "outputs": []
    },
    {
     "cell_type": "code",
     "collapsed": false,
     "input": [],
     "language": "python",
     "metadata": {},
     "outputs": []
    },
    {
     "cell_type": "code",
     "collapsed": false,
     "input": [],
     "language": "python",
     "metadata": {},
     "outputs": []
    }
   ],
   "metadata": {}
  }
 ]
}